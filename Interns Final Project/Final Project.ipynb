{
 "cells": [
  {
   "cell_type": "code",
   "execution_count": null,
   "metadata": {},
   "outputs": [],
   "source": []
  },
  {
   "cell_type": "code",
   "execution_count": 1,
   "metadata": {
    "scrolled": true
   },
   "outputs": [],
   "source": [
    "import pandas as pd\n",
    "import sqlalchemy \n"
   ]
  },
  {
   "cell_type": "code",
   "execution_count": 3,
   "metadata": {},
   "outputs": [],
   "source": [
    "connection_string = ('Driver=ODBC Driver 17 for SQL Server;'\n",
    "                       'Server=SWADKA01PC0922\\SQLEXPRESS;'\n",
    "                       'Database=Final_Project;'\n",
    "                       'Trusted_Connection=yes;')\n",
    "connection_url = sqlalchemy.engine.URL.create(\"mssql+pyodbc\",query=dict(odbc_connect=connection_string))\n",
    "engine = sqlalchemy.create_engine(connection_url, fast_executemany=True)"
   ]
  },
  {
   "cell_type": "code",
   "execution_count": null,
   "metadata": {},
   "outputs": [],
   "source": []
  },
  {
   "cell_type": "code",
   "execution_count": 2,
   "metadata": {},
   "outputs": [],
   "source": [
    "data1 = pd.read_csv('campaign_table.csv') \n",
    "data2 = pd.read_csv('causal_data.csv')\n",
    "data3 = pd.read_csv('coupon.csv')\n",
    "data4 = pd.read_csv('coupon_redempt.csv')\n",
    "data5 = pd.read_csv('hh_demographic.csv')\n",
    "data6 = pd.read_csv('product.csv')\n",
    "data7 = pd.read_csv('transaction_data.csv')"
   ]
  },
  {
   "cell_type": "code",
   "execution_count": 6,
   "metadata": {
    "scrolled": true
   },
   "outputs": [
    {
     "data": {
      "text/html": [
       "<div>\n",
       "<style scoped>\n",
       "    .dataframe tbody tr th:only-of-type {\n",
       "        vertical-align: middle;\n",
       "    }\n",
       "\n",
       "    .dataframe tbody tr th {\n",
       "        vertical-align: top;\n",
       "    }\n",
       "\n",
       "    .dataframe thead th {\n",
       "        text-align: right;\n",
       "    }\n",
       "</style>\n",
       "<table border=\"1\" class=\"dataframe\">\n",
       "  <thead>\n",
       "    <tr style=\"text-align: right;\">\n",
       "      <th></th>\n",
       "      <th>DESCRIPTION</th>\n",
       "      <th>household_key</th>\n",
       "      <th>CAMPAIGN</th>\n",
       "      <th>START_DAY</th>\n",
       "      <th>END_DAY</th>\n",
       "    </tr>\n",
       "  </thead>\n",
       "  <tbody>\n",
       "    <tr>\n",
       "      <th>0</th>\n",
       "      <td>TypeA</td>\n",
       "      <td>17</td>\n",
       "      <td>26</td>\n",
       "      <td>10/11/2020</td>\n",
       "      <td>4/1/2021</td>\n",
       "    </tr>\n",
       "    <tr>\n",
       "      <th>1</th>\n",
       "      <td>TypeA</td>\n",
       "      <td>27</td>\n",
       "      <td>26</td>\n",
       "      <td>10/11/2020</td>\n",
       "      <td>4/1/2021</td>\n",
       "    </tr>\n",
       "    <tr>\n",
       "      <th>2</th>\n",
       "      <td>TypeA</td>\n",
       "      <td>212</td>\n",
       "      <td>26</td>\n",
       "      <td>10/11/2020</td>\n",
       "      <td>4/1/2021</td>\n",
       "    </tr>\n",
       "    <tr>\n",
       "      <th>3</th>\n",
       "      <td>TypeA</td>\n",
       "      <td>208</td>\n",
       "      <td>26</td>\n",
       "      <td>10/11/2020</td>\n",
       "      <td>4/1/2021</td>\n",
       "    </tr>\n",
       "    <tr>\n",
       "      <th>4</th>\n",
       "      <td>TypeA</td>\n",
       "      <td>192</td>\n",
       "      <td>26</td>\n",
       "      <td>10/11/2020</td>\n",
       "      <td>4/1/2021</td>\n",
       "    </tr>\n",
       "    <tr>\n",
       "      <th>...</th>\n",
       "      <td>...</td>\n",
       "      <td>...</td>\n",
       "      <td>...</td>\n",
       "      <td>...</td>\n",
       "      <td>...</td>\n",
       "    </tr>\n",
       "    <tr>\n",
       "      <th>7203</th>\n",
       "      <td>TypeC</td>\n",
       "      <td>1803</td>\n",
       "      <td>15</td>\n",
       "      <td>6/9/2021</td>\n",
       "      <td>9/15/2020</td>\n",
       "    </tr>\n",
       "    <tr>\n",
       "      <th>7204</th>\n",
       "      <td>TypeC</td>\n",
       "      <td>1082</td>\n",
       "      <td>15</td>\n",
       "      <td>6/9/2021</td>\n",
       "      <td>9/15/2020</td>\n",
       "    </tr>\n",
       "    <tr>\n",
       "      <th>7205</th>\n",
       "      <td>TypeC</td>\n",
       "      <td>942</td>\n",
       "      <td>15</td>\n",
       "      <td>6/9/2021</td>\n",
       "      <td>9/15/2020</td>\n",
       "    </tr>\n",
       "    <tr>\n",
       "      <th>7206</th>\n",
       "      <td>TypeC</td>\n",
       "      <td>855</td>\n",
       "      <td>15</td>\n",
       "      <td>6/9/2021</td>\n",
       "      <td>9/15/2020</td>\n",
       "    </tr>\n",
       "    <tr>\n",
       "      <th>7207</th>\n",
       "      <td>TypeC</td>\n",
       "      <td>334</td>\n",
       "      <td>15</td>\n",
       "      <td>6/9/2021</td>\n",
       "      <td>9/15/2020</td>\n",
       "    </tr>\n",
       "  </tbody>\n",
       "</table>\n",
       "<p>7208 rows × 5 columns</p>\n",
       "</div>"
      ],
      "text/plain": [
       "     DESCRIPTION  household_key  CAMPAIGN   START_DAY    END_DAY\n",
       "0          TypeA             17        26  10/11/2020   4/1/2021\n",
       "1          TypeA             27        26  10/11/2020   4/1/2021\n",
       "2          TypeA            212        26  10/11/2020   4/1/2021\n",
       "3          TypeA            208        26  10/11/2020   4/1/2021\n",
       "4          TypeA            192        26  10/11/2020   4/1/2021\n",
       "...          ...            ...       ...         ...        ...\n",
       "7203       TypeC           1803        15    6/9/2021  9/15/2020\n",
       "7204       TypeC           1082        15    6/9/2021  9/15/2020\n",
       "7205       TypeC            942        15    6/9/2021  9/15/2020\n",
       "7206       TypeC            855        15    6/9/2021  9/15/2020\n",
       "7207       TypeC            334        15    6/9/2021  9/15/2020\n",
       "\n",
       "[7208 rows x 5 columns]"
      ]
     },
     "execution_count": 6,
     "metadata": {},
     "output_type": "execute_result"
    }
   ],
   "source": [
    "data1 = pd.read_csv('campaign_table.csv') \n",
    "data1"
   ]
  },
  {
   "cell_type": "code",
   "execution_count": null,
   "metadata": {},
   "outputs": [],
   "source": [
    "data1.to_sql(\"campaign_table\", engine, if_exists='replace',index = False)\n",
    "data3.to_sql(\"coupon\", engine, if_exists='replace',index = False)\n",
    "data4.to_sql(\"coupon_redempt\", engine, if_exists='replace',index = False)\n",
    "data5.to_sql(\"hh_demographic\", engine, if_exists='replace',index = False)\n",
    "data6.to_sql(\"product\", engine, if_exists='replace',index = False)\n",
    "data7.to_sql(\"transaction_data\", engine, if_exists='replace',index = False)\n"
   ]
  },
  {
   "cell_type": "code",
   "execution_count": null,
   "metadata": {
    "scrolled": false
   },
   "outputs": [],
   "source": [
    "data2.to_sql(\"causal_data\", engine, if_exists='replace', index = False,chunksize=10000)"
   ]
  },
  {
   "cell_type": "code",
   "execution_count": null,
   "metadata": {},
   "outputs": [],
   "source": []
  },
  {
   "cell_type": "code",
   "execution_count": null,
   "metadata": {},
   "outputs": [],
   "source": [
    "# TO FIND DUPLICATES IN COLUMN TO MAKE IT PRIMARY/ FOREIGN KEY"
   ]
  },
  {
   "cell_type": "code",
   "execution_count": 10,
   "metadata": {},
   "outputs": [
    {
     "data": {
      "text/plain": [
       "False    119384\n",
       "True       5164\n",
       "dtype: int64"
      ]
     },
     "execution_count": 10,
     "metadata": {},
     "output_type": "execute_result"
    }
   ],
   "source": [
    "data3[['COUPON_UPC', 'PRODUCT_ID', 'CAMPAIGN']].duplicated().value_counts()"
   ]
  },
  {
   "cell_type": "code",
   "execution_count": 12,
   "metadata": {},
   "outputs": [
    {
     "data": {
      "text/plain": [
       "False    2304\n",
       "True       14\n",
       "dtype: int64"
      ]
     },
     "execution_count": 12,
     "metadata": {},
     "output_type": "execute_result"
    }
   ],
   "source": [
    "data4[['household_key', 'DAY', 'COUPON_UPC', 'CAMPAIGN']].duplicated().value_counts()"
   ]
  },
  {
   "cell_type": "code",
   "execution_count": 103,
   "metadata": {
    "scrolled": false
   },
   "outputs": [
    {
     "name": "stdout",
     "output_type": "stream",
     "text": [
      "<class 'pandas.core.frame.DataFrame'>\n",
      "RangeIndex: 2318 entries, 0 to 2317\n",
      "Data columns (total 4 columns):\n",
      " #   Column         Non-Null Count  Dtype\n",
      "---  ------         --------------  -----\n",
      " 0   household_key  2318 non-null   int64\n",
      " 1   DAY            2318 non-null   int64\n",
      " 2   COUPON_UPC     2318 non-null   int64\n",
      " 3   CAMPAIGN       2318 non-null   int64\n",
      "dtypes: int64(4)\n",
      "memory usage: 72.6 KB\n"
     ]
    }
   ],
   "source": [
    "data4.info()"
   ]
  },
  {
   "cell_type": "code",
   "execution_count": null,
   "metadata": {},
   "outputs": [],
   "source": []
  },
  {
   "cell_type": "markdown",
   "metadata": {},
   "source": [
    "### API CALL"
   ]
  },
  {
   "cell_type": "raw",
   "metadata": {},
   "source": [
    "api_key = \"5ed8bb81871d32daaa4e4daa19a61235\""
   ]
  },
  {
   "cell_type": "raw",
   "metadata": {},
   "source": [
    "api_link=https://api.openweathermap.org/data/2.5/forecast?q={City_Name}&appid={api_key}"
   ]
  },
  {
   "cell_type": "code",
   "execution_count": null,
   "metadata": {},
   "outputs": [],
   "source": [
    "City_Name = 'Bangalore'"
   ]
  },
  {
   "cell_type": "code",
   "execution_count": 7,
   "metadata": {
    "scrolled": true
   },
   "outputs": [
    {
     "name": "stdout",
     "output_type": "stream",
     "text": [
      "https://api.openweathermap.org/data/2.5/forecast?q=Bangalore&appid=5ed8bb81871d32daaa4e4daa19a61235\n"
     ]
    }
   ],
   "source": [
    "cnt = 16\n",
    "res  = f\"https://api.openweathermap.org/data/2.5/forecast?q={City_Name}&appid={api_key}\"\n",
    "\n",
    "print(res)"
   ]
  },
  {
   "cell_type": "code",
   "execution_count": null,
   "metadata": {},
   "outputs": [],
   "source": [
    "\n"
   ]
  },
  {
   "cell_type": "markdown",
   "metadata": {},
   "source": [
    "#  FINAL SCRIPT FOR POWER BI"
   ]
  },
  {
   "cell_type": "code",
   "execution_count": null,
   "metadata": {
    "scrolled": true
   },
   "outputs": [],
   "source": [
    "import requests\n",
    "import pandas as pd\n",
    "from requests.exceptions import HTTPError\n",
    "\n",
    "try:\n",
    "    api_key = \"5ed8bb81871d32daaa4e4daa19a61235\"\n",
    "\n",
    "    City_Name = 'Bangalore'\n",
    "    res = f\"https://api.openweathermap.org/data/2.5/forecast?q={City_Name}&appid={api_key}\"\n",
    "\n",
    "    response = requests.get(res)\n",
    "    response.raise_for_status()\n",
    "    # access JSOn content\n",
    "    data1 = response.json()\n",
    "    print(\"Entire JSON response\")\n",
    "#     print(jsonResponse)\n",
    "\n",
    "except HTTPError as http_err:\n",
    "    print(f'HTTP error occurred: {http_err}')\n",
    "except Exception as err:\n",
    "    print(f'Other error occurred: {err}')\n",
    "\n",
    "\n",
    "df_weather=pd.DataFrame(columns=['city_id','city_name','date','time','temp','temp_min','temp_max','pressure','sea_level',\n",
    "                                'grnd_level','humidity','weather_id','Cloudiness','description','wind_speed'])\n",
    "for index in range(len(data1['list'])):\n",
    "    \n",
    "    city_id=data1['city']['id']\n",
    "    city_name=data1['city']['name']\n",
    "    date=data1['list'][index]['dt_txt'].split(\" \")[0]\n",
    "    time=data1['list'][index]['dt_txt'].split(\" \")[1]\n",
    "    temp=data1['list'][index]['main']['temp']\n",
    "    temp_min=data1['list'][index]['main']['temp_min']\n",
    "    temp_max=data1['list'][index]['main']['temp_max']\n",
    "    pressure=data1['list'][index]['main']['pressure']\n",
    "    sea_level=data1['list'][index]['main']['sea_level']\n",
    "    grnd_level=data1['list'][index]['main']['grnd_level']\n",
    "    humidity=data1['list'][index]['main']['humidity']\n",
    "    weather_id=data1['list'][index]['weather'][0]['id']\n",
    "    Cloudiness=data1['list'][index]['weather'][0]['main']\n",
    "    description=data1['list'][index]['weather'][0]['description']\n",
    "    wind_speed=data1['list'][index]['wind']['speed']\n",
    "\n",
    "    df_weather.loc[index]=[city_id,city_name,date,time,temp,temp_min,temp_max,pressure,sea_level,grnd_level,humidity,weather_id,Cloudiness,description,wind_speed]\n",
    "df_weather"
   ]
  },
  {
   "cell_type": "code",
   "execution_count": 164,
   "metadata": {},
   "outputs": [
    {
     "data": {
      "text/plain": [
       "297.42"
      ]
     },
     "execution_count": 164,
     "metadata": {},
     "output_type": "execute_result"
    }
   ],
   "source": [
    "temp=data1['list'][index]['main']['temp']\n",
    "temp"
   ]
  },
  {
   "cell_type": "code",
   "execution_count": null,
   "metadata": {},
   "outputs": [],
   "source": []
  }
 ],
 "metadata": {
  "application/vnd.databricks.v1+notebook": {
   "dashboards": [],
   "language": "python",
   "notebookMetadata": {
    "pythonIndentUnit": 4
   },
   "notebookName": "Final Project",
   "notebookOrigID": 1558386763152825,
   "widgets": {}
  },
  "kernelspec": {
   "display_name": "Python 3 (ipykernel)",
   "language": "python",
   "name": "python3"
  },
  "language_info": {
   "codemirror_mode": {
    "name": "ipython",
    "version": 3
   },
   "file_extension": ".py",
   "mimetype": "text/x-python",
   "name": "python",
   "nbconvert_exporter": "python",
   "pygments_lexer": "ipython3",
   "version": "3.9.13"
  }
 },
 "nbformat": 4,
 "nbformat_minor": 1
}
